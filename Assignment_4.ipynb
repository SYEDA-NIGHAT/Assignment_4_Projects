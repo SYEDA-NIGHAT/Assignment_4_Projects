{
  "nbformat": 4,
  "nbformat_minor": 0,
  "metadata": {
    "colab": {
      "provenance": [],
      "authorship_tag": "ABX9TyO7O32x4j8MbY/lE/cmloYY",
      "include_colab_link": true
    },
    "kernelspec": {
      "name": "python3",
      "display_name": "Python 3"
    },
    "language_info": {
      "name": "python"
    }
  },
  "cells": [
    {
      "cell_type": "markdown",
      "metadata": {
        "id": "view-in-github",
        "colab_type": "text"
      },
      "source": [
        "<a href=\"https://colab.research.google.com/github/SYEDA-NIGHAT/Assignment_4_Projects/blob/main/Assignment_4.ipynb\" target=\"_parent\"><img src=\"https://colab.research.google.com/assets/colab-badge.svg\" alt=\"Open In Colab\"/></a>"
      ]
    },
    {
      "cell_type": "markdown",
      "source": [
        "# Homework Projects: 00-Project 1\n",
        "\n",
        "### Sum Calculator"
      ],
      "metadata": {
        "id": "RerEtmuqK0-Q"
      }
    },
    {
      "cell_type": "code",
      "source": [
        "first_number = int(input(\"Enter the first number: \"))\n",
        "\n",
        "second_number = int(input(\"Enter the second number: \"))\n",
        "\n",
        "total_sum = first_number + second_number\n",
        "\n",
        "print(f\"The sum of {first_number} and {second_number} is: {total_sum}\")\n"
      ],
      "metadata": {
        "colab": {
          "base_uri": "https://localhost:8080/"
        },
        "id": "KsBLYLtEH3QR",
        "outputId": "93c26778-576c-43df-b30e-3afae32bc461"
      },
      "execution_count": null,
      "outputs": [
        {
          "output_type": "stream",
          "name": "stdout",
          "text": [
            "Enter the first number: 55\n",
            "Enter the second number: 5\n",
            "The sum of 55 and 5 is: 60\n"
          ]
        }
      ]
    },
    {
      "cell_type": "markdown",
      "source": [
        "# Project 2\n",
        "### Agreement bot"
      ],
      "metadata": {
        "id": "pwP8ivdIEZBM"
      }
    },
    {
      "cell_type": "code",
      "source": [
        "favorite_animal = input(\"What's your favorite animal? \")\n",
        "\n",
        "print(f\"My favorite animal is also {favorite_animal}! Looks like we have similar taste in animals.\")\n"
      ],
      "metadata": {
        "colab": {
          "base_uri": "https://localhost:8080/"
        },
        "id": "-1l_D5aYEbKN",
        "outputId": "dc36a83f-42d0-4a76-f8eb-5527d187ada8"
      },
      "execution_count": null,
      "outputs": [
        {
          "output_type": "stream",
          "name": "stdout",
          "text": [
            "What's your favorite animal? bunny\n",
            "My favorite animal is also bunny! Looks like we have similar taste in animals.\n"
          ]
        }
      ]
    },
    {
      "cell_type": "markdown",
      "source": [
        "# Project 3:\n",
        "### Fahrenheit to celsius"
      ],
      "metadata": {
        "id": "O4vS2sJ2FBiD"
      }
    },
    {
      "cell_type": "code",
      "source": [
        "fahrenheit = float(input(\"Enter temperature in Fahrenheit: \"))\n",
        "\n",
        "# Conversion of Fahrenheit to Celsius\n",
        "celsius = (fahrenheit - 32) * 5.0 / 9.0\n",
        "\n",
        "# Result\n",
        "print(f\"Temperature: {fahrenheit}F = {celsius}C\")\n"
      ],
      "metadata": {
        "colab": {
          "base_uri": "https://localhost:8080/"
        },
        "id": "oM5xilO3Ewof",
        "outputId": "3e0f3a88-6cbd-4c65-acbf-4972995ad979"
      },
      "execution_count": null,
      "outputs": [
        {
          "output_type": "stream",
          "name": "stdout",
          "text": [
            "Enter temperature in Fahrenheit: 55\n",
            "Temperature: 55.0F = 12.777777777777779C\n"
          ]
        }
      ]
    },
    {
      "cell_type": "markdown",
      "source": [
        "# Project 4\n",
        "### How Old Are They?"
      ],
      "metadata": {
        "id": "cacOvbV9FyYm"
      }
    },
    {
      "cell_type": "code",
      "source": [
        "# Ages\n",
        "Maryam = 21\n",
        "Ayesha = Maryam + 6\n",
        "Fatima = Ayesha + 20\n",
        "Zara = Fatima + Maryam\n",
        "Hania = Fatima\n",
        "\n",
        "# Results\n",
        "print(\"Anton is\", Maryam, \"years old.\")\n",
        "print(\"Beth is\", Ayesha, \"years old.\")\n",
        "print(\"Chen is\", Fatima, \"years old.\")\n",
        "print(\"Drew is\", Zara, \"years old.\")\n",
        "print(\"Ethan is\", Hania, \"years old.\")\n"
      ],
      "metadata": {
        "colab": {
          "base_uri": "https://localhost:8080/"
        },
        "id": "RB-TmTMEF1nz",
        "outputId": "c83fbc87-eade-47f2-9e96-81db40c077f0"
      },
      "execution_count": null,
      "outputs": [
        {
          "output_type": "stream",
          "name": "stdout",
          "text": [
            "Anton is 21 years old.\n",
            "Beth is 27 years old.\n",
            "Chen is 47 years old.\n",
            "Drew is 68 years old.\n",
            "Ethan is 47 years old.\n"
          ]
        }
      ]
    },
    {
      "cell_type": "markdown",
      "source": [
        "# Project 5\n",
        "### Triangle Parameter"
      ],
      "metadata": {
        "id": "5s32JIYyG49b"
      }
    },
    {
      "cell_type": "code",
      "source": [
        "side1 = float(input(\"What is the length of side 1? \"))\n",
        "side2 = float(input(\"What is the length of side 2? \"))\n",
        "side3 = float(input(\"What is the length of side 3? \"))\n",
        "\n",
        "perimeter = side1 + side2 + side3\n",
        "\n",
        "print(f\"The perimeter of the triangle is {perimeter}\")\n"
      ],
      "metadata": {
        "colab": {
          "base_uri": "https://localhost:8080/"
        },
        "id": "f0LoOdUGGz0t",
        "outputId": "0bea1b88-4adf-4dcd-f9a5-e162c2a9f9c4"
      },
      "execution_count": null,
      "outputs": [
        {
          "output_type": "stream",
          "name": "stdout",
          "text": [
            "What is the length of side 1? 78\n",
            "What is the length of side 2? 9\n",
            "What is the length of side 3? 1\n",
            "The perimeter of the triangle is 88.0\n"
          ]
        }
      ]
    },
    {
      "cell_type": "markdown",
      "source": [
        "# Project 6\n",
        "### Square Number"
      ],
      "metadata": {
        "id": "bDR14esIHQ-k"
      }
    },
    {
      "cell_type": "code",
      "source": [
        "def main():\n",
        "    num: float = float(input(\"Type a number to see its square: \"))\n",
        "    print(str(num) + \"'s square is \" + str(num ** 2))\n",
        "\n",
        "\n",
        "\n",
        "if __name__ == '__main__':\n",
        "    main()\n"
      ],
      "metadata": {
        "colab": {
          "base_uri": "https://localhost:8080/"
        },
        "id": "t1FbCJ8ZHac8",
        "outputId": "67204f27-aa77-44a0-cdde-e9efb3e735fa"
      },
      "execution_count": null,
      "outputs": [
        {
          "output_type": "stream",
          "name": "stdout",
          "text": [
            "Type a number to see its square: 9\n",
            "9.0's square is 81.0\n"
          ]
        }
      ]
    },
    {
      "cell_type": "markdown",
      "source": [
        "# 01: Project 1\n",
        "## Dice Simulator"
      ],
      "metadata": {
        "id": "SpGbYEWwH8Qe"
      }
    },
    {
      "cell_type": "code",
      "source": [
        "import random\n",
        "\n",
        "def roll_dice():\n",
        "    dice1 = random.randint(1, 6)\n",
        "    dice2 = random.randint(1, 6)\n",
        "    return dice1, dice2\n",
        "\n",
        "for i in range(1, 4):\n",
        "    dice1, dice2 = roll_dice()\n",
        "    print(f\"Roll {i}: Dice 1 = {dice1}, Dice 2 = {dice2}\")\n"
      ],
      "metadata": {
        "colab": {
          "base_uri": "https://localhost:8080/"
        },
        "id": "7VOEGA7AISM6",
        "outputId": "4fce612a-85a1-44f5-8b1e-e57b7b9f0515"
      },
      "execution_count": null,
      "outputs": [
        {
          "output_type": "stream",
          "name": "stdout",
          "text": [
            "Roll 1: Dice 1 = 3, Dice 2 = 5\n",
            "Roll 2: Dice 1 = 6, Dice 2 = 6\n",
            "Roll 3: Dice 1 = 4, Dice 2 = 3\n"
          ]
        }
      ]
    },
    {
      "cell_type": "markdown",
      "source": [
        "# Project 2\n",
        "### e=mc2"
      ],
      "metadata": {
        "id": "rfaEw4QRIw3O"
      }
    },
    {
      "cell_type": "code",
      "source": [
        "C = 299792458\n",
        "\n",
        "mass = float(input(\"Enter kilos of mass: \"))\n",
        "\n",
        "print(\"e = m * C^2...\")\n",
        "print(f\"m = {mass} kg\")\n",
        "print(f\"C = {C} m/s\")\n",
        "\n",
        "energy = mass * C ** 2\n",
        "\n",
        "print(f\"{energy} joules of energy!\")\n"
      ],
      "metadata": {
        "colab": {
          "base_uri": "https://localhost:8080/"
        },
        "id": "vP_sagT5IkvQ",
        "outputId": "0dbc2d1b-a44d-479a-ac63-294e14c4fd81"
      },
      "execution_count": null,
      "outputs": [
        {
          "output_type": "stream",
          "name": "stdout",
          "text": [
            "Enter kilos of mass: 8\n",
            "e = m * C^2...\n",
            "m = 8.0 kg\n",
            "C = 299792458 m/s\n",
            "7.190041429894541e+17 joules of energy!\n"
          ]
        }
      ]
    },
    {
      "cell_type": "markdown",
      "source": [
        "# Project 3\n",
        "### Feet to inches"
      ],
      "metadata": {
        "id": "dYl4c8VLJRVR"
      }
    },
    {
      "cell_type": "code",
      "source": [
        "feet = float(input(\"Enter length in feet: \"))\n",
        "\n",
        "inches = feet * 12\n",
        "\n",
        "if feet == 1:\n",
        "    print(f\"{feet} foot is {inches} inches.\")\n",
        "else:\n",
        "    print(f\"{feet} feet is {inches} inches.\")\n"
      ],
      "metadata": {
        "colab": {
          "base_uri": "https://localhost:8080/"
        },
        "id": "kYwjQBIHJak-",
        "outputId": "0cdbec8c-96f7-467a-992f-02150fc581dc"
      },
      "execution_count": null,
      "outputs": [
        {
          "output_type": "stream",
          "name": "stdout",
          "text": [
            "Enter length in feet: 54\n",
            "54.0 feet is 648.0 inches.\n"
          ]
        }
      ]
    },
    {
      "cell_type": "markdown",
      "source": [
        "# Project 4\n",
        "### Pytagorean Theorum"
      ],
      "metadata": {
        "id": "iK_bTi_eJjh8"
      }
    },
    {
      "cell_type": "code",
      "source": [
        "import math\n",
        "\n",
        "AB = float(input(\"Enter the length of AB: \"))\n",
        "AC = float(input(\"Enter the length of AC: \"))\n",
        "\n",
        "BC = math.sqrt(AB**2 + AC**2)\n",
        "\n",
        "print(f\"The length of BC (the hypotenuse) is: {BC}\")\n"
      ],
      "metadata": {
        "colab": {
          "base_uri": "https://localhost:8080/"
        },
        "id": "MCLTrIOUJsjv",
        "outputId": "c56ff2de-1cf3-4b6e-801c-8a5a61d8bb50"
      },
      "execution_count": null,
      "outputs": [
        {
          "output_type": "stream",
          "name": "stdout",
          "text": [
            "Enter the length of AB: 23\n",
            "Enter the length of AC: 2\n",
            "The length of BC (the hypotenuse) is: 23.08679276123039\n"
          ]
        }
      ]
    },
    {
      "cell_type": "markdown",
      "source": [
        "# Project 5\n",
        "### Roll Dice with claculation"
      ],
      "metadata": {
        "id": "hORwWWUsJ7oY"
      }
    },
    {
      "cell_type": "code",
      "source": [
        "import random\n",
        "\n",
        "NUM_SIDES: int = 6\n",
        "\n",
        "def main():\n",
        "\n",
        "    dice1: int = random.randint(1, NUM_SIDES)\n",
        "    dice2: int = random.randint(1, NUM_SIDES)\n",
        "\n",
        "    total: int = dice1 + dice2\n",
        "\n",
        "    print(\"Dice have\", NUM_SIDES, \"sides each.\")\n",
        "    print(\"First dice:\", dice1)\n",
        "    print(\"Second dice:\", dice2)\n",
        "    print(\"Total of two dices:\", total)\n",
        "\n",
        "\n",
        "if __name__ == '__main__':\n",
        "    main()"
      ],
      "metadata": {
        "colab": {
          "base_uri": "https://localhost:8080/"
        },
        "id": "Cn_kQon7JzQd",
        "outputId": "39f17f7a-a8de-4adc-a23e-41e606fdf6d0"
      },
      "execution_count": null,
      "outputs": [
        {
          "output_type": "stream",
          "name": "stdout",
          "text": [
            "Dice have 6 sides each.\n",
            "First dice: 3\n",
            "Second dice: 2\n",
            "Total of two dices: 5\n"
          ]
        }
      ]
    },
    {
      "cell_type": "markdown",
      "source": [
        "# Project 6\n",
        "### Remainder division"
      ],
      "metadata": {
        "id": "wVvL68zRKqhC"
      }
    },
    {
      "cell_type": "code",
      "source": [
        "num1 = int(input(\"Please enter an integer to be divided: \"))\n",
        "num2 = int(input(\"Please enter an integer to divide by: \"))\n",
        "\n",
        "quotient = num1 // num2\n",
        "remainder = num1 % num2\n",
        "\n",
        "print(f\"The result of this division is {quotient} with a remainder of {remainder}\")\n"
      ],
      "metadata": {
        "colab": {
          "base_uri": "https://localhost:8080/"
        },
        "id": "ISR0a_0fKZFG",
        "outputId": "a11ffafe-f559-408e-fdf9-43ff561cf759"
      },
      "execution_count": null,
      "outputs": [
        {
          "output_type": "stream",
          "name": "stdout",
          "text": [
            "Please enter an integer to be divided: 8\n",
            "Please enter an integer to divide by: 2\n",
            "The result of this division is 4 with a remainder of 0\n"
          ]
        }
      ]
    },
    {
      "cell_type": "code",
      "source": [],
      "metadata": {
        "id": "OzUzIgiLK7uc"
      },
      "execution_count": null,
      "outputs": []
    },
    {
      "cell_type": "markdown",
      "source": [
        "# Project 6\n",
        "### Seconds in a Year"
      ],
      "metadata": {
        "id": "Q0YmAbVrLB5-"
      }
    },
    {
      "cell_type": "code",
      "source": [
        "DAYS_IN_YEAR = 365\n",
        "HOURS_IN_DAY = 24\n",
        "MINUTES_IN_HOUR = 60\n",
        "SECONDS_IN_MINUTE = 60\n",
        "\n",
        "seconds_in_year = DAYS_IN_YEAR * HOURS_IN_DAY * MINUTES_IN_HOUR * SECONDS_IN_MINUTE\n",
        "\n",
        "print(f\"There are {seconds_in_year} seconds in a year!\")\n"
      ],
      "metadata": {
        "colab": {
          "base_uri": "https://localhost:8080/"
        },
        "id": "K7TFY6lRLHvp",
        "outputId": "f67cdd44-3504-4b56-cd9d-f596b193f63a"
      },
      "execution_count": null,
      "outputs": [
        {
          "output_type": "stream",
          "name": "stdout",
          "text": [
            "There are 31536000 seconds in a year!\n"
          ]
        }
      ]
    },
    {
      "cell_type": "markdown",
      "source": [
        "# Project 7\n",
        "### Mad lib"
      ],
      "metadata": {
        "id": "kyz-aobsLlDP"
      }
    },
    {
      "cell_type": "code",
      "source": [
        "SENTENCE_START: str = \"Classes are fun. I learned to program and used Python to make my \"\n",
        "def main():\n",
        "    adjective: str = input(\"Please type an adjective and press enter. \")\n",
        "    noun: str = input(\"Please type a noun and press enter. \")\n",
        "    verb: str = input(\"Please type a verb and press enter. \")\n",
        "\n",
        "    print(SENTENCE_START + adjective + \" \" + noun + \" \" + verb + \"!\")\n",
        "\n",
        "\n",
        "\n",
        "if __name__ == '__main__':\n",
        "    main()"
      ],
      "metadata": {
        "colab": {
          "base_uri": "https://localhost:8080/"
        },
        "id": "ffLdHzUoLPmr",
        "outputId": "4f4b08f0-423e-4e92-f684-98b15856df89"
      },
      "execution_count": null,
      "outputs": [
        {
          "output_type": "stream",
          "name": "stdout",
          "text": [
            "Please type an adjective and press enter. working\n",
            "Please type a noun and press enter. robot\n",
            "Please type a verb and press enter. launch\n",
            "Classes are fun. I learned to program and used Python to make my working robot launch!\n"
          ]
        }
      ]
    },
    {
      "cell_type": "markdown",
      "source": [
        "# 02: Project 1\n",
        "### add many numbers"
      ],
      "metadata": {
        "id": "mXq42J-TMbRv"
      }
    },
    {
      "cell_type": "code",
      "source": [
        "def sum_numbers(numbers):\n",
        "    return sum(numbers)"
      ],
      "metadata": {
        "id": "IkFhMrmjMnSo"
      },
      "execution_count": null,
      "outputs": []
    },
    {
      "cell_type": "code",
      "source": [
        "def add_many_numbers(numbers) -> int:\n",
        "    \"\"\"\n",
        "    Takes in a list of numbers and returns the sum of those numbers.\n",
        "    \"\"\"\n",
        "\n",
        "    total_so_far: int = 0\n",
        "    for number in numbers:\n",
        "        total_so_far += number\n",
        "\n",
        "    return total_so_far\n",
        "\n",
        "def main():\n",
        "    numbers: list[int] = [2, 4, 2, 7, 5]\n",
        "    sum_of_numbers: int = add_many_numbers(numbers)\n",
        "    print(sum_of_numbers)\n",
        "\n",
        "if __name__ == '__main__':\n",
        "    main()\n"
      ],
      "metadata": {
        "colab": {
          "base_uri": "https://localhost:8080/"
        },
        "id": "pryGiF--Mt6F",
        "outputId": "1f6943ad-eb3f-4e95-e640-0bf322656353"
      },
      "execution_count": null,
      "outputs": [
        {
          "output_type": "stream",
          "name": "stdout",
          "text": [
            "20\n"
          ]
        }
      ]
    },
    {
      "cell_type": "markdown",
      "source": [
        "# Project 2\n",
        "### double list"
      ],
      "metadata": {
        "id": "CgkfwEyrNhjn"
      }
    },
    {
      "cell_type": "code",
      "source": [
        "def main():\n",
        "    numbers: list[int] = [8, 4, 5, 4]\n",
        "\n",
        "    for i in range(len(numbers)):\n",
        "        elem_at_index = numbers[i]\n",
        "        numbers[i] = elem_at_index * 2\n",
        "\n",
        "    print(numbers)\n",
        "\n",
        "\n",
        "if __name__ == '__main__':\n",
        "    main()"
      ],
      "metadata": {
        "colab": {
          "base_uri": "https://localhost:8080/"
        },
        "id": "5ZJOe3gGOY8_",
        "outputId": "40260174-5eb6-4986-a3e4-e7afbbbe7125"
      },
      "execution_count": null,
      "outputs": [
        {
          "output_type": "stream",
          "name": "stdout",
          "text": [
            "[16, 8, 10, 8]\n"
          ]
        }
      ]
    },
    {
      "cell_type": "markdown",
      "source": [
        "# Project 3\n",
        "### Erase canvas"
      ],
      "metadata": {
        "id": "ROOptFt6NqWb"
      }
    },
    {
      "cell_type": "code",
      "source": [
        "import pygame\n",
        "import sys\n",
        "\n",
        "pygame.init()\n",
        "\n",
        "# Screen setup\n",
        "WIDTH, HEIGHT = 600, 400\n",
        "CELL_SIZE = 20\n",
        "ROWS = HEIGHT // CELL_SIZE\n",
        "COLS = WIDTH // CELL_SIZE\n",
        "\n",
        "screen = pygame.display.set_mode((WIDTH, HEIGHT))\n",
        "pygame.display.set_caption(\"Canvas with Eraser\")\n",
        "\n",
        "# Colors\n",
        "BLUE = (0, 0, 255)\n",
        "WHITE = (255, 255, 255)\n",
        "ERASER_COLOR = (180, 180, 180)\n",
        "ERASER_BORDER = (100, 100, 100)\n",
        "\n",
        "clock = pygame.time.Clock()\n",
        "\n",
        "# Create grid: start all blue\n",
        "grid = [[BLUE for _ in range(COLS)] for _ in range(ROWS)]\n",
        "\n",
        "# Eraser rectangle\n",
        "eraser_size = CELL_SIZE * 3\n",
        "eraser = pygame.Rect(0, 0, eraser_size, eraser_size)\n",
        "dragging = False\n",
        "\n",
        "while True:\n",
        "    for event in pygame.event.get():\n",
        "        if event.type == pygame.QUIT:\n",
        "            pygame.quit()\n",
        "            sys.exit()\n",
        "        elif event.type == pygame.MOUSEBUTTONDOWN:\n",
        "            if eraser.collidepoint(event.pos):\n",
        "                dragging = True\n",
        "                mouse_x, mouse_y = event.pos\n",
        "                offset_x = eraser.x - mouse_x\n",
        "                offset_y = eraser.y - mouse_y\n",
        "        elif event.type == pygame.MOUSEBUTTONUP:\n",
        "            dragging = False\n",
        "        elif event.type == pygame.MOUSEMOTION and dragging:\n",
        "            mouse_x, mouse_y = event.pos\n",
        "            eraser.x = mouse_x + offset_x\n",
        "            eraser.y = mouse_y + offset_y\n",
        "\n",
        "            # Keep eraser inside screen\n",
        "            eraser.x = max(0, min(eraser.x, WIDTH - eraser.width))\n",
        "            eraser.y = max(0, min(eraser.y, HEIGHT - eraser.height))\n",
        "\n",
        "            # Erase all cells the eraser touches\n",
        "            start_col = eraser.left // CELL_SIZE\n",
        "            end_col = (eraser.right - 1) // CELL_SIZE\n",
        "            start_row = eraser.top // CELL_SIZE\n",
        "            end_row = (eraser.bottom - 1) // CELL_SIZE\n",
        "\n",
        "            for r in range(start_row, end_row + 1):\n",
        "                for c in range(start_col, end_col + 1):\n",
        "                    if 0 <= r < ROWS and 0 <= c < COLS:\n",
        "                        grid[r][c] = WHITE\n",
        "\n",
        "    # Draw grid cells\n",
        "    for r in range(ROWS):\n",
        "        for c in range(COLS):\n",
        "            rect = pygame.Rect(c * CELL_SIZE, r * CELL_SIZE, CELL_SIZE, CELL_SIZE)\n",
        "            pygame.draw.rect(screen, grid[r][c], rect)\n",
        "            pygame.draw.rect(screen, (50, 50, 50), rect, 1)  # cell border\n",
        "\n",
        "    # Draw eraser\n",
        "    pygame.draw.rect(screen, ERASER_COLOR, eraser)\n",
        "    pygame.draw.rect(screen, ERASER_BORDER, eraser, 2)\n",
        "\n",
        "    pygame.display.flip()\n",
        "    clock.tick(60)\n"
      ],
      "metadata": {
        "id": "Qp44EnD-ZQpo"
      },
      "execution_count": null,
      "outputs": []
    },
    {
      "cell_type": "markdown",
      "source": [
        "# Project 4\n",
        "### flowing with data structures"
      ],
      "metadata": {
        "id": "dNIyBgaSNxwR"
      }
    },
    {
      "cell_type": "code",
      "source": [
        "def add_three_copies(my_list, data):\n",
        "    \"\"\"\n",
        "    Adds three copies of the data to the provided list.\n",
        "    Since lists are mutable, the changes persist without returning.\n",
        "    \"\"\"\n",
        "    my_list.append(data)\n",
        "    my_list.append(data)\n",
        "    my_list.append(data)\n",
        "\n",
        "# Main program\n",
        "message = input(\"Enter a message to copy: \")\n",
        "my_list = []\n",
        "\n",
        "print(\"List before:\", my_list)\n",
        "\n",
        "# Call the function to add three copies\n",
        "add_three_copies(my_list, message)\n",
        "\n",
        "# Display the list after modification\n",
        "print(\"List after:\", my_list)\n"
      ],
      "metadata": {
        "id": "rekQLh6CZtF6",
        "colab": {
          "base_uri": "https://localhost:8080/"
        },
        "outputId": "43342232-5fdc-4157-c9d3-661d8dc2de13"
      },
      "execution_count": null,
      "outputs": [
        {
          "output_type": "stream",
          "name": "stdout",
          "text": [
            "Enter a message to copy: thank you\n",
            "List before: []\n",
            "List after: ['thank you', 'thank you', 'thank you']\n"
          ]
        }
      ]
    },
    {
      "cell_type": "markdown",
      "source": [
        "# Project 5\n",
        "### Get first Element"
      ],
      "metadata": {
        "id": "bk_kvzKsN5XW"
      }
    },
    {
      "cell_type": "code",
      "source": [
        "def get_first_element(lst):\n",
        "    \"\"\"\n",
        "    Prints the first element of a provided list.\n",
        "    \"\"\"\n",
        "\n",
        "    print(lst[0])\n",
        "\n",
        "def get_lst():\n",
        "    # \"\"\"\n",
        "    # Prompts the user to enter one element of the list at a time and returns the resulting list.\n",
        "    # \"\"\"\n",
        "    lst = []\n",
        "    elem: str = input(\"Please enter an element of the list or press enter to stop. \")\n",
        "    while elem != \"\":\n",
        "        lst.append(elem)\n",
        "        elem = input(\"Please enter an element of the list or press enter to stop. \")\n",
        "    return lst\n",
        "\n",
        "def main():\n",
        "    lst = get_lst()\n",
        "    get_first_element(lst)\n",
        "\n",
        "\n",
        "if __name__ == '__main__':\n",
        "    main()\n",
        "\n"
      ],
      "metadata": {
        "id": "rCpkKzqacyMl"
      },
      "execution_count": null,
      "outputs": []
    },
    {
      "cell_type": "markdown",
      "source": [
        "# Project 6\n",
        "### Get last Element"
      ],
      "metadata": {
        "id": "HqEQysiUN_ST"
      }
    },
    {
      "cell_type": "code",
      "source": [
        "def get_last_element(lst):\n",
        "    \"\"\"\n",
        "    Prints the last element of the given list.\n",
        "    \"\"\"\n",
        "    print(lst[-1])\n",
        "\n",
        "# Example usage:\n",
        "get_last_element([1, 2, 3, 4, 5])  # Output: 5"
      ],
      "metadata": {
        "id": "vNXvBvcFdi5J"
      },
      "execution_count": null,
      "outputs": []
    },
    {
      "cell_type": "markdown",
      "source": [
        "# Project 7\n",
        "### Get List"
      ],
      "metadata": {
        "id": "W9-wNjNIOMc6"
      }
    },
    {
      "cell_type": "code",
      "source": [
        "values = []\n",
        "\n",
        "while True:\n",
        "    value = input(\"Enter a value: \")\n",
        "\n",
        "    if value == \"\":\n",
        "        break\n",
        "\n",
        "    values.append(value)\n",
        "\n",
        "print(\"Here's the list:\", values)\n"
      ],
      "metadata": {
        "id": "-Z-uQWEUdw5Z"
      },
      "execution_count": null,
      "outputs": []
    },
    {
      "cell_type": "markdown",
      "source": [
        "# Project 8\n",
        "### Shorten"
      ],
      "metadata": {
        "id": "IIi_no5zOSu3"
      }
    },
    {
      "cell_type": "code",
      "source": [
        "MAX_LENGTH : int = 3\n",
        "\n",
        "def shorten(lst):\n",
        "    while len(lst) > MAX_LENGTH:\n",
        "        last_elem = lst.pop()\n",
        "        print(last_elem)\n",
        "\n",
        "\n",
        "def get_lst():\n",
        "    \"\"\"\n",
        "    Prompts the user to enter one element of the list at a time and returns the resulting list.\n",
        "    \"\"\"\n",
        "    lst = []\n",
        "    elem = input(\"Please enter an element of the list or press enter to stop. \")\n",
        "    while elem != \"\":\n",
        "        lst.append(elem)\n",
        "        elem = input(\"Please enter an element of the list or press enter to stop. \")\n",
        "    return lst\n",
        "\n",
        "def main():\n",
        "    lst = get_lst()\n",
        "    shorten(lst)\n",
        "\n",
        "\n",
        "if __name__ == '__main__':\n",
        "    main()"
      ],
      "metadata": {
        "id": "jVKm2o6cOXqo",
        "colab": {
          "base_uri": "https://localhost:8080/"
        },
        "outputId": "517608e2-6c8a-4a15-a9dc-e7a58ec61401"
      },
      "execution_count": null,
      "outputs": [
        {
          "output_type": "stream",
          "name": "stdout",
          "text": [
            "Please enter an element of the list or press enter to stop. 8\n",
            "Please enter an element of the list or press enter to stop. 7\n",
            "Please enter an element of the list or press enter to stop. 6\n",
            "Please enter an element of the list or press enter to stop. 2\n",
            "Please enter an element of the list or press enter to stop. 2\n",
            "Please enter an element of the list or press enter to stop. \n",
            "2\n",
            "2\n"
          ]
        }
      ]
    },
    {
      "cell_type": "markdown",
      "source": [
        "# 03 Project 1\n",
        "### Print Events"
      ],
      "metadata": {
        "id": "L8Q7LV9SmoXy"
      }
    },
    {
      "cell_type": "code",
      "source": [
        "def main():\n",
        "    for i in range(20):\n",
        "        print(i * 2)\n",
        "\n",
        "# Call the main function when \"run\", no need to edit anything below!\n",
        "if __name__ == \"__main__\":\n",
        "    main()"
      ],
      "metadata": {
        "colab": {
          "base_uri": "https://localhost:8080/"
        },
        "id": "9IYjMLaxmvKs",
        "outputId": "98a3a41c-8257-4142-a1dd-4ae73198def7"
      },
      "execution_count": null,
      "outputs": [
        {
          "output_type": "stream",
          "name": "stdout",
          "text": [
            "0 5 10 15 20 25 30 35 40 45 50 55 60 65 70 75 80 85 90 95 "
          ]
        }
      ]
    },
    {
      "cell_type": "markdown",
      "source": [
        "# Project 2\n",
        "### International Voting Age"
      ],
      "metadata": {
        "id": "IMJo35Mj1GO5"
      }
    },
    {
      "cell_type": "code",
      "source": [
        "Party1_AGE : int = 18\n",
        "Party2_AGE : int = 25\n",
        "Party3_AGE : int = 48\n",
        "\n",
        "def main():\n",
        "    user_age = int(input(\"How old are you? \"))\n",
        "\n",
        "    if user_age >= Party1_AGE:\n",
        "        print(\"You can vote in Party1 where the voting age is \" + str(Party1_AGE) + \".\")\n",
        "    else:\n",
        "        print(\"You cannot vote in Party1 where the voting age is \" + str(Party1_AGE) + \".\")\n",
        "\n",
        "    if user_age >= Party2_AGE:\n",
        "        print(\"You can vote in Party2 where the voting age is \" + str(Party2_AGE) + \".\")\n",
        "    else:\n",
        "        print(\"You cannot vote in Party2 where the voting age is \" + str(Party2_AGE) + \".\")\n",
        "\n",
        "    if user_age >= Party3_AGE:\n",
        "        print(\"You can vote in Party3 where the voting age is \" + str(Party3_AGE) + \".\")\n",
        "    else:\n",
        "        print(\"You cannot vote in Party3 where the voting age is \" + str(Party3_AGE) + \".\")\n",
        "\n",
        "if __name__ == '__main__':\n",
        "    main()"
      ],
      "metadata": {
        "id": "i_rERdFam6-1",
        "colab": {
          "base_uri": "https://localhost:8080/"
        },
        "outputId": "9f7611c4-1af2-47c0-d0bf-abc674f6ce16"
      },
      "execution_count": null,
      "outputs": [
        {
          "output_type": "stream",
          "name": "stdout",
          "text": [
            "How old are you? 89\n",
            "You can vote in Party1 where the voting age is 18.\n",
            "You can vote in Party2 where the voting age is 25.\n",
            "You can vote in Party3 where the voting age is 48.\n"
          ]
        }
      ]
    },
    {
      "cell_type": "markdown",
      "source": [
        "# Project 3\n",
        "### Leap Year"
      ],
      "metadata": {
        "id": "4GgLnQ8M7J9l"
      }
    },
    {
      "cell_type": "code",
      "source": [
        "def main():\n",
        "    year = int(input('Please input a year: '))\n",
        "\n",
        "    if year % 4 == 0:\n",
        "        if year % 100 == 0:\n",
        "            if year % 400 == 0:\n",
        "                print(\"That's a leap year!\")\n",
        "            else:\n",
        "                print(\"That's not a leap year.\")\n",
        "        else:\n",
        "            print(\"That's a leap year!\")\n",
        "    else:\n",
        "        print(\"That's not a leap year.\")\n",
        "\n",
        "\n",
        "\n",
        "if __name__ == '__main__':\n",
        "    main()"
      ],
      "metadata": {
        "colab": {
          "base_uri": "https://localhost:8080/"
        },
        "id": "-vbsnN7L7QMO",
        "outputId": "c98c2e00-64e0-4708-d83e-35516ea1489c"
      },
      "execution_count": null,
      "outputs": [
        {
          "output_type": "stream",
          "name": "stdout",
          "text": [
            "Please input a year: 2024\n",
            "That's a leap year!\n"
          ]
        }
      ]
    },
    {
      "cell_type": "markdown",
      "source": [
        "# Project 4\n",
        "### Tall enough to Ride"
      ],
      "metadata": {
        "id": "Don_q2mh7kgG"
      }
    },
    {
      "cell_type": "code",
      "source": [
        "MIN_HEIGHT : int = 150\n",
        "\n",
        "def main():\n",
        "    height = float(input(\"How tall are you? \"))\n",
        "    if height >= MIN_HEIGHT:\n",
        "        print(\"You're tall enough to ride!\")\n",
        "    else:\n",
        "        print(\"You're not tall enough to ride, but you could increase your height!\")\n",
        "\n",
        "\n",
        "if __name__ == '__main__':\n",
        "    main()"
      ],
      "metadata": {
        "colab": {
          "base_uri": "https://localhost:8080/"
        },
        "id": "qo7JKAsX96WB",
        "outputId": "fcac0f9a-f69d-4c75-f1c1-2f5099fe41dc"
      },
      "execution_count": null,
      "outputs": [
        {
          "output_type": "stream",
          "name": "stdout",
          "text": [
            "How tall are you? 77\n",
            "You're not tall enough to ride, but you could increase your height!\n"
          ]
        }
      ]
    },
    {
      "cell_type": "markdown",
      "source": [
        "# Project 5\n",
        "### Random Numbers"
      ],
      "metadata": {
        "id": "YdduztNOABjL"
      }
    },
    {
      "cell_type": "code",
      "source": [
        "import random\n",
        "\n",
        "N_NUMBERS: int = 10\n",
        "MIN_VALUE: int = 1\n",
        "MAX_VALUE: int = 100\n",
        "\n",
        "def main():\n",
        "    \"\"\"\n",
        "    Generates and prints 10 random numbers in the range of 1 to 100.\n",
        "    \"\"\"\n",
        "    random_numbers = [random.randint(MIN_VALUE, MAX_VALUE) for _ in range(N_NUMBERS)]\n",
        "    print(\" \".join(map(str, random_numbers)))\n",
        "\n",
        "if __name__ == '__main__':\n",
        "    main()"
      ],
      "metadata": {
        "colab": {
          "base_uri": "https://localhost:8080/"
        },
        "id": "l5r2Q2NyAKfP",
        "outputId": "92d701cc-ef0d-4589-88dc-7c287f067a57"
      },
      "execution_count": null,
      "outputs": [
        {
          "output_type": "stream",
          "name": "stdout",
          "text": [
            "73 91 96 48 22 68 73 13 50 37\n"
          ]
        }
      ]
    },
    {
      "cell_type": "markdown",
      "source": [
        "# 04 Project 00\n",
        "### Count nums"
      ],
      "metadata": {
        "id": "TXPR1gooBU3Z"
      }
    },
    {
      "cell_type": "code",
      "source": [
        "def get_user_numbers():\n",
        "    \"\"\"\n",
        "    Create an empty list.\n",
        "    Ask the user to input numbers and store them in a list.\n",
        "    Once they enter a blank line, break out of the loop and return the list.\n",
        "    \"\"\"\n",
        "    user_numbers = []\n",
        "    while True:\n",
        "        user_input = input(\"Enter a number: \")\n",
        "\n",
        "        if user_input == \"\":\n",
        "            break\n",
        "\n",
        "        num = int(user_input)\n",
        "        user_numbers.append(num)\n",
        "\n",
        "    return user_numbers\n",
        "\n",
        "def count_nums(num_lst):\n",
        "    \"\"\"\n",
        "    Create an empty dictionary.\n",
        "    Loop over the list of numbers.\n",
        "    If the number is not in the dictionary, add it as a key with a value of 1.\n",
        "    If the number is in the dictionary, increment its value by 1.\n",
        "    \"\"\"\n",
        "    num_dict = {}\n",
        "    for num in num_lst:\n",
        "        if num not in num_dict:\n",
        "            num_dict[num] = 1\n",
        "        else:\n",
        "            num_dict[num] += 1\n",
        "\n",
        "    return num_dict\n",
        "\n",
        "\n",
        "def print_counts(num_dict):\n",
        "    \"\"\"\n",
        "    Loop over the dictionary and print out each key and its value.\n",
        "    \"\"\"\n",
        "    for num in num_dict:\n",
        "        print(str(num) + \" appears \" + str(num_dict[num]) + \" times.\")\n",
        "\n",
        "\n",
        "def main():\n",
        "    \"\"\"\n",
        "    Ask the user to input numbers and store them in a list. Once they enter a blank line,\n",
        "    print out the number of times each number appeared in the list.\n",
        "    \"\"\"\n",
        "    user_numbers = get_user_numbers()\n",
        "    num_dict = count_nums(user_numbers)\n",
        "    print_counts(num_dict)\n",
        "\n",
        "\n",
        "if __name__ == '__main__':\n",
        "    main()"
      ],
      "metadata": {
        "colab": {
          "base_uri": "https://localhost:8080/"
        },
        "id": "TEXlCdo-AaO1",
        "outputId": "d5700898-8b66-4d3c-8637-64ca62339aca"
      },
      "execution_count": null,
      "outputs": [
        {
          "output_type": "stream",
          "name": "stdout",
          "text": [
            "Enter a number: 76\n",
            "Enter a number: 5\n",
            "Enter a number: \n",
            "76 appears 1 times.\n",
            "5 appears 1 times.\n"
          ]
        }
      ]
    },
    {
      "cell_type": "markdown",
      "source": [
        "# Project 1\n",
        "### phonebook"
      ],
      "metadata": {
        "id": "1eT_W7tjEFTv"
      }
    },
    {
      "cell_type": "code",
      "source": [
        "def read_phone_numbers():\n",
        "    \"\"\"\n",
        "    Ask the user for names/numbers to story in a phonebook (dictionary).\n",
        "    Returns the phonebook.\n",
        "    \"\"\"\n",
        "    phonebook = {}                   # Create empty phonebook\n",
        "\n",
        "    while True:\n",
        "        name = input(\"Name: \")\n",
        "        if name == \"\":\n",
        "            break\n",
        "        number = input(\"Number: \")\n",
        "        phonebook[name] = number\n",
        "\n",
        "    return phonebook\n",
        "\n",
        "\n",
        "def print_phonebook(phonebook):\n",
        "    \"\"\"\n",
        "    Prints out all the names/numbers in the phonebook.\n",
        "    \"\"\"\n",
        "    for name in phonebook:\n",
        "        print(str(name) + \" -> \" + str(phonebook[name]))\n",
        "\n",
        "\n",
        "def lookup_numbers(phonebook):\n",
        "    \"\"\"\n",
        "    Allow the user to lookup phone numbers in the phonebook\n",
        "    by looking up the number associated with a name.\n",
        "    \"\"\"\n",
        "    while True:\n",
        "        name = input(\"Enter name to lookup: \")\n",
        "        if name == \"\":\n",
        "            break\n",
        "        if name not in phonebook:\n",
        "            print(name + \" is not in the phonebook\")\n",
        "        else:\n",
        "            print(phonebook[name])\n",
        "\n",
        "\n",
        "def main():\n",
        "    phonebook = read_phone_numbers()\n",
        "    print_phonebook(phonebook)\n",
        "    lookup_numbers(phonebook)\n",
        "\n",
        "\n",
        "# Python boilerplate.\n",
        "if __name__ == '__main__':\n",
        "    main()"
      ],
      "metadata": {
        "colab": {
          "base_uri": "https://localhost:8080/"
        },
        "id": "yPnCKX5CENn4",
        "outputId": "8ade2f8a-060b-4a7b-be70-c3e68180fc82"
      },
      "execution_count": null,
      "outputs": [
        {
          "name": "stdout",
          "output_type": "stream",
          "text": [
            "Name: zainab\n",
            "Number: 12\n",
            "Name: sam\n",
            "Number: 12\n",
            "Name: wesam\n",
            "Number: 34\n",
            "Name: \n",
            "zainab -> 12\n",
            "sam -> 12\n",
            "wesam -> 34\n",
            "Enter name to lookup: 45\n",
            "45 is not in the phonebook\n",
            "Enter name to lookup: 32\n",
            "32 is not in the phonebook\n",
            "Enter name to lookup: 34\n",
            "34 is not in the phonebook\n",
            "Enter name to lookup: sam\n",
            "12\n",
            "Enter name to lookup: \n"
          ]
        }
      ]
    },
    {
      "cell_type": "markdown",
      "source": [
        "# Project 2\n",
        "### Pop-up shop"
      ],
      "metadata": {
        "id": "q2muX9cDFglZ"
      }
    },
    {
      "cell_type": "code",
      "source": [
        "def main():\n",
        "    fruits = {'apple': 1.5, 'durian': 50, 'jackfruit': 80, 'kiwi': 1, 'rambutan': 1.5, 'mango': 5}\n",
        "\n",
        "    total_cost = 0\n",
        "    for fruit_name in fruits:\n",
        "        price = fruits[fruit_name]\n",
        "        amount_bought = int(input(\"How many (\" + fruit_name + \") do you want to buy?: \"))\n",
        "        total_cost += (price * amount_bought)\n",
        "\n",
        "    print(\"Your total is $\" + str(total_cost))\n",
        "\n",
        "\n",
        "\n",
        "if __name__ == '__main__':\n",
        "    main()"
      ],
      "metadata": {
        "colab": {
          "base_uri": "https://localhost:8080/"
        },
        "id": "DPYNXafoEdip",
        "outputId": "0a659122-5654-4e92-9199-3c3fe58d3671"
      },
      "execution_count": null,
      "outputs": [
        {
          "output_type": "stream",
          "name": "stdout",
          "text": [
            "How many (apple) do you want to buy?: 5\n",
            "How many (durian) do you want to buy?: 6\n",
            "How many (jackfruit) do you want to buy?: 0\n",
            "How many (kiwi) do you want to buy?: 9\n",
            "How many (rambutan) do you want to buy?: 0\n",
            "How many (mango) do you want to buy?: 4\n",
            "Your total is $336.5\n"
          ]
        }
      ]
    },
    {
      "cell_type": "markdown",
      "source": [
        "# Project 3\n",
        "### Powerful Passwords"
      ],
      "metadata": {
        "id": "exIxzCWzZPbv"
      }
    },
    {
      "cell_type": "code",
      "source": [
        "from hashlib import sha256\n",
        "\n",
        "def login(email, stored_logins, password_to_check):\n",
        "    \"\"\"\n",
        "    Returns True if the hash of the password we are checking matches the one in stored_logins\n",
        "    for a specific email. Otherwise, returns False.\n",
        "\n",
        "    email: the email we are checking the password for\n",
        "    stored_logins: a dictionary pointing from an email to its hashed password\n",
        "    password_to_check: a password we want to test alongside the email to login with\n",
        "    \"\"\"\n",
        "\n",
        "    if stored_logins[email] == hash_password(password_to_check):\n",
        "        return True\n",
        "\n",
        "    return False\n",
        "\n",
        "\n",
        "def hash_password(password):\n",
        "    \"\"\"\n",
        "    Takes in a password and returns the SHA256 hashed value for that specific password.\n",
        "\n",
        "    Inputs:\n",
        "        password: the password we want\n",
        "\n",
        "    Outputs:\n",
        "        the hashed form of the input password\n",
        "    \"\"\"\n",
        "\n",
        "    return sha256(password.encode()).hexdigest()\n",
        "\n",
        "def main():\n",
        "    stored_logins = {\n",
        "        \"example@gmail.com\": \"5e884898da28047151d0e56f8dc6292773603d0d6aabbdd62a11ef721d1542d8\",\n",
        "        \"code_in_placer@cip.org\": \"973607a4ae7b4cf7d96a100b0fb07e8519cc4f70441d41214a9f811577bb06cc\",\n",
        "        \"student@stanford.edu\": \"882c6df720fd99f5eebb1581a1cf975625cea8a160283011c0b9512bb56c95fb\"\n",
        "    }\n",
        "\n",
        "    print(login(\"example@gmail.com\", stored_logins, \"word\"))\n",
        "    print(login(\"example@gmail.com\", stored_logins, \"password\"))\n",
        "\n",
        "    print(login(\"code_in_placer@cip.org\", stored_logins, \"Karel\"))\n",
        "    print(login(\"code_in_placer@cip.org\", stored_logins, \"karel\"))\n",
        "\n",
        "    print(login(\"student@stanford.edu\", stored_logins, \"password\"))\n",
        "    print(login(\"student@stanford.edu\", stored_logins, \"123!456?789\"))\n",
        "\n",
        "\n",
        "if __name__ == '__main__':\n",
        "    main()"
      ],
      "metadata": {
        "colab": {
          "base_uri": "https://localhost:8080/"
        },
        "id": "SboLUHkWFufZ",
        "outputId": "a7cf8ddb-1982-48d2-c779-d66f2a216b56"
      },
      "execution_count": null,
      "outputs": [
        {
          "output_type": "stream",
          "name": "stdout",
          "text": [
            "False\n",
            "True\n",
            "False\n",
            "True\n",
            "False\n",
            "True\n"
          ]
        }
      ]
    },
    {
      "cell_type": "markdown",
      "source": [
        "# 05 Project 00\n",
        "### guess my number"
      ],
      "metadata": {
        "id": "TVKfcZLtflJ4"
      }
    },
    {
      "cell_type": "code",
      "source": [
        "import random\n",
        "\n",
        "def main():\n",
        "    secret_number = random.randint(1, 99)\n",
        "\n",
        "    print(\"I am thinking of a number between 1 and 99...\")\n",
        "\n",
        "    guess = int(input(\"Enter a guess: \"))\n",
        "    while guess != secret_number:\n",
        "        if guess < secret_number:\n",
        "            print(\"Your guess is too low\")\n",
        "        else:\n",
        "            print(\"Your guess is too high\")\n",
        "\n",
        "        print()\n",
        "        guess = int(input(\"Enter a new guess: \"))\n",
        "\n",
        "    print(\"Congrats! The number was: \" + str(secret_number))\n",
        "\n",
        "if __name__ == '__main__':\n",
        "    main()"
      ],
      "metadata": {
        "id": "y_rAyMfxMxCL",
        "colab": {
          "base_uri": "https://localhost:8080/"
        },
        "outputId": "32498a9d-c6fa-4a47-c417-014a90b13599"
      },
      "execution_count": null,
      "outputs": [
        {
          "output_type": "stream",
          "name": "stdout",
          "text": [
            "I am thinking of a number between 1 and 99...\n",
            "Enter a guess: 67\n",
            "Your guess is too high\n",
            "\n",
            "Enter a new guess: 50\n",
            "Your guess is too high\n",
            "\n",
            "Enter a new guess: 20\n",
            "Your guess is too high\n",
            "\n",
            "Enter a new guess: 10\n",
            "Your guess is too low\n",
            "\n",
            "Enter a new guess: 11\n",
            "Your guess is too low\n",
            "\n",
            "Enter a new guess: 12\n",
            "Congrats! The number was: 12\n"
          ]
        }
      ]
    },
    {
      "cell_type": "markdown",
      "source": [
        "# Project 01\n",
        "### Fibonacci"
      ],
      "metadata": {
        "id": "i8iBFdcOgGvQ"
      }
    },
    {
      "cell_type": "code",
      "source": [
        "MAX_TERM_VALUE : int = 10000\n",
        "\n",
        "def main():\n",
        "    curr_term = 0\n",
        "    next_term = 1\n",
        "    while curr_term <= MAX_TERM_VALUE:\n",
        "        print(curr_term)\n",
        "        term_after_next = curr_term + next_term\n",
        "        curr_term = next_term\n",
        "        next_term = term_after_next\n",
        "\n",
        "\n",
        "\n",
        "if __name__ == '__main__':\n",
        "    main()"
      ],
      "metadata": {
        "colab": {
          "base_uri": "https://localhost:8080/"
        },
        "id": "ShTWIcNqgOMw",
        "outputId": "1b44155b-0c0c-433b-a589-fd775cc6784b"
      },
      "execution_count": null,
      "outputs": [
        {
          "output_type": "stream",
          "name": "stdout",
          "text": [
            "0\n",
            "1\n",
            "1\n",
            "2\n",
            "3\n",
            "5\n",
            "8\n",
            "13\n",
            "21\n",
            "34\n",
            "55\n",
            "89\n",
            "144\n",
            "233\n",
            "377\n",
            "610\n",
            "987\n",
            "1597\n",
            "2584\n",
            "4181\n",
            "6765\n"
          ]
        }
      ]
    },
    {
      "cell_type": "markdown",
      "source": [
        "# Project 02\n",
        "### Events"
      ],
      "metadata": {
        "id": "aa6QLvvYg11o"
      }
    },
    {
      "cell_type": "code",
      "source": [
        "def main():\n",
        "    for i in range(20):\n",
        "        print(i * 2)\n",
        "\n",
        "if __name__ == \"__main__\":\n",
        "    main()"
      ],
      "metadata": {
        "id": "Xx66s7co2Alg",
        "colab": {
          "base_uri": "https://localhost:8080/"
        },
        "outputId": "67714364-8bcf-4578-da7f-9336881ab834"
      },
      "execution_count": null,
      "outputs": [
        {
          "output_type": "stream",
          "name": "stdout",
          "text": [
            "0\n",
            "2\n",
            "4\n",
            "6\n",
            "8\n",
            "10\n",
            "12\n",
            "14\n",
            "16\n",
            "18\n",
            "20\n",
            "22\n",
            "24\n",
            "26\n",
            "28\n",
            "30\n",
            "32\n",
            "34\n",
            "36\n",
            "38\n"
          ]
        }
      ]
    },
    {
      "cell_type": "markdown",
      "source": [
        "# Project 03\n",
        "### Wholseome Machine"
      ],
      "metadata": {
        "id": "uRmgH80lg1lV"
      }
    },
    {
      "cell_type": "code",
      "source": [
        "AFFIRMATION : str = \"I am capable of doing anything I put my mind to.\"\n",
        "\n",
        "def main():\n",
        "    print(\"Please type the following affirmation: \" + AFFIRMATION)\n",
        "\n",
        "    user_feedback = input()\n",
        "    while user_feedback != AFFIRMATION:\n",
        "\n",
        "        print(\"That was not the affirmation.\")\n",
        "\n",
        "\n",
        "        print(\"Please type the following affirmation: \" + AFFIRMATION)\n",
        "        user_feedback = input()\n",
        "\n",
        "    print(\"That's right! :)\")\n",
        "\n",
        "\n",
        "\n",
        "if __name__ == '__main__':\n",
        "    main()"
      ],
      "metadata": {
        "colab": {
          "base_uri": "https://localhost:8080/"
        },
        "id": "vJI8HxRXgs0X",
        "outputId": "49b2ee99-efd5-4137-90b4-8458b35bdf64"
      },
      "execution_count": null,
      "outputs": [
        {
          "output_type": "stream",
          "name": "stdout",
          "text": [
            "Please type the following affirmation: I am capable of doing anything I put my mind to.\n",
            "I am capable of doing anything I put my mind to.\n",
            "That's right! :)\n"
          ]
        }
      ]
    },
    {
      "cell_type": "markdown",
      "source": [
        "# Project 04\n",
        "### liftoff"
      ],
      "metadata": {
        "id": "Bewm2wWPhD78"
      }
    },
    {
      "cell_type": "code",
      "source": [
        "def main():\n",
        "    for i in range(10):\n",
        "        print(10 - i, end=' ')\n",
        "    print(\"Liftoff!\")\n",
        "\n",
        "if __name__ == '__main__':\n",
        "    main()"
      ],
      "metadata": {
        "colab": {
          "base_uri": "https://localhost:8080/"
        },
        "id": "TmuO20eX36_x",
        "outputId": "dc49f131-82f6-4558-b78e-f595d04d80a9"
      },
      "execution_count": null,
      "outputs": [
        {
          "output_type": "stream",
          "name": "stdout",
          "text": [
            "10 9 8 7 6 5 4 3 2 1 Liftoff!\n"
          ]
        }
      ]
    },
    {
      "cell_type": "markdown",
      "source": [
        "# Project 5\n",
        "### Doubling"
      ],
      "metadata": {
        "id": "mpUfPash4Ha1"
      }
    },
    {
      "cell_type": "code",
      "source": [
        "def main():\n",
        "    curr_value = int(input(\"Enter a number: \"))\n",
        "\n",
        "    while curr_value < 100:\n",
        "        curr_value = curr_value * 2\n",
        "        print(curr_value, end=' ')\n",
        "\n",
        "if __name__ == '__main__':\n",
        "    main()"
      ],
      "metadata": {
        "colab": {
          "base_uri": "https://localhost:8080/"
        },
        "id": "JTQYkAwT38PZ",
        "outputId": "094c227b-464e-4a38-b61e-5ead9c4d0e43"
      },
      "execution_count": null,
      "outputs": [
        {
          "output_type": "stream",
          "name": "stdout",
          "text": [
            "Enter a number: 88\n",
            "176 "
          ]
        }
      ]
    },
    {
      "cell_type": "markdown",
      "source": [
        "# Online Class: Project 01\n",
        "## Joke Bot"
      ],
      "metadata": {
        "id": "G45I9h4y4Ii4"
      }
    },
    {
      "cell_type": "code",
      "source": [
        "PROMPT: str = \"What do you want? \"\n",
        "JOKE: str = \"Here is a joke for you! Sophia is heading out to the grocery store. A programmer tells her: get a liter of milk, and if they have eggs, get 12. Sophia returns with 13 liters of milk. The programmer asks why and Sophia replies: 'because they had eggs'\"\n",
        "SORRY: str = \"Sorry I only tell jokes.\"\n",
        "\n",
        "def main():\n",
        "    user_input = input(PROMPT)\n",
        "    user_input = user_input.strip().lower()\n",
        "\n",
        "    if \"joke\" in user_input:\n",
        "        print(JOKE)\n",
        "    else:\n",
        "        print(SORRY)\n",
        "\n",
        "if __name__ == \"__main__\":\n",
        "    main()\n"
      ],
      "metadata": {
        "colab": {
          "base_uri": "https://localhost:8080/"
        },
        "id": "HpEgp_D853a8",
        "outputId": "5cc62908-7a62-4292-ce7f-900be63ca6f9"
      },
      "execution_count": 3,
      "outputs": [
        {
          "output_type": "stream",
          "name": "stdout",
          "text": [
            "What do you want? jokes\n",
            "Here is a joke for you! Sophia is heading out to the grocery store. A programmer tells her: get a liter of milk, and if they have eggs, get 12. Sophia returns with 13 liters of milk. The programmer asks why and Sophia replies: 'because they had eggs'\n"
          ]
        }
      ]
    },
    {
      "cell_type": "markdown",
      "source": [
        "# Projects to be submitted: Project 1\n",
        "### Mad Libs"
      ],
      "metadata": {
        "id": "XRGhr0qcEeUW"
      }
    },
    {
      "cell_type": "code",
      "source": [
        "def mad_libs():\n",
        "    print(\"Welcome to Mad Libs!\")\n",
        "    print(\"Please enter the following:\")\n",
        "\n",
        "    adjective1 = input(\"Adjective: \")\n",
        "    noun1 = input(\"Noun: \")\n",
        "    verb1 = input(\"Verb (past tense): \")\n",
        "    adjective2 = input(\"Adjective: \")\n",
        "    noun2 = input(\"Noun: \")\n",
        "    verb2 = input(\"Verb (present tense): \")\n",
        "    number = input(\"Number: \")\n",
        "    plural_noun = input(\"Plural Noun: \")\n",
        "    verb3 = input(\"Verb (present tense): \")\n",
        "\n",
        "    story = f\"Once upon a time, a {adjective1} {noun1} decided to {verb1} in the {adjective2} forest. \"\\\n",
        "            f\"Along the way, it met a {noun2} who asked, 'Do you want to {verb2} with me?' \"\\\n",
        "            f\"The {noun1} said, 'Sure! But we must first find {number} {plural_noun} to help us.' \"\\\n",
        "            f\"Together, they {verb3} and lived happily ever after.\"\n",
        "\n",
        "    print(\"\\nHere is your Mad Libs story:\")\n",
        "    print(story)\n",
        "\n",
        "mad_libs()\n"
      ],
      "metadata": {
        "colab": {
          "base_uri": "https://localhost:8080/"
        },
        "id": "FW-_3zHIEnwG",
        "outputId": "b483ca20-b550-47e8-cd66-b6c2b86594be"
      },
      "execution_count": 5,
      "outputs": [
        {
          "output_type": "stream",
          "name": "stdout",
          "text": [
            "Welcome to Mad Libs!\n",
            "Please enter the following:\n",
            "Adjective: beautiful\n",
            "Noun: girl\n",
            "Verb (past tense): ran\n",
            "Adjective: cool\n",
            "Noun: boy\n",
            "Verb (present tense): runs\n",
            "Number: 4\n",
            "Plural Noun: pens\n",
            "Verb (present tense): sit\n",
            "\n",
            "Here is your Mad Libs story:\n",
            "Once upon a time, a beautiful girl decided to ran in the cool forest. Along the way, it met a boy who asked, 'Do you want to runs with me?' The girl said, 'Sure! But we must first find 4 pens to help us.' Together, they sit and lived happily ever after.\n"
          ]
        }
      ]
    },
    {
      "cell_type": "markdown",
      "source": [
        "# Project 2\n",
        "### Guess the number (computer)"
      ],
      "metadata": {
        "id": "rx8YnmYxFAsB"
      }
    },
    {
      "cell_type": "code",
      "source": [
        "import random\n",
        "\n",
        "def guess_the_number():\n",
        "    print(\"Welcome to the Guess the Number Game!\")\n",
        "    print(\"The computer has selected a number between 1 and 100.\")\n",
        "    print(\"Your task is to guess the number. Good luck!\")\n",
        "\n",
        "    target_number = random.randint(1, 100)\n",
        "    attempts = 0\n",
        "\n",
        "    while True:\n",
        "        try:\n",
        "            guess = int(input(\"Enter your guess: \"))\n",
        "            attempts += 1\n",
        "\n",
        "            if guess < target_number:\n",
        "                print(\"Too low! Try again.\")\n",
        "            elif guess > target_number:\n",
        "                print(\"Too high! Try again.\")\n",
        "            else:\n",
        "                print(f\"Congratulations! You guessed the number {target_number} in {attempts} attempts.\")\n",
        "                break\n",
        "        except ValueError:\n",
        "            print(\"Please enter a valid number.\")\n",
        "\n",
        "guess_the_number()"
      ],
      "metadata": {
        "colab": {
          "base_uri": "https://localhost:8080/"
        },
        "id": "V8twtRgcEqTf",
        "outputId": "c1eb0c73-87cb-421f-c4a3-dbec77282046"
      },
      "execution_count": 6,
      "outputs": [
        {
          "output_type": "stream",
          "name": "stdout",
          "text": [
            "Welcome to the Guess the Number Game!\n",
            "The computer has selected a number between 1 and 100.\n",
            "Your task is to guess the number. Good luck!\n",
            "Enter your guess: 79\n",
            "Congratulations! You guessed the number 79 in 1 attempts.\n"
          ]
        }
      ]
    },
    {
      "cell_type": "markdown",
      "source": [
        "# Project 3\n",
        "### Guess the number (user)"
      ],
      "metadata": {
        "id": "Jhpby5TyIdba"
      }
    },
    {
      "cell_type": "code",
      "source": [
        "def computer_guesses():\n",
        "    print(\"Welcome to the Guess the Number Game!\")\n",
        "    print(\"Think of a number between 1 and 100, and I will try to guess it.\")\n",
        "    print(\"Respond with 'H' if my guess is too high, 'L' if it's too low, and 'C' if I guessed correctly.\")\n",
        "\n",
        "    low = 1\n",
        "    high = 100\n",
        "    attempts = 0\n",
        "\n",
        "    while True:\n",
        "        if low > high:\n",
        "            print(\"It seems there's an error in your responses. Let's try again!\")\n",
        "            break\n",
        "\n",
        "        guess = (low + high) // 2\n",
        "        attempts += 1\n",
        "        print(f\"My guess is: {guess}\")\n",
        "\n",
        "        response = input(\"Is my guess too High (H), too Low (L), or Correct (C)? \").strip().upper()\n",
        "\n",
        "        if response == 'H':\n",
        "            high = guess - 1\n",
        "        elif response == 'L':\n",
        "            low = guess + 1\n",
        "        elif response == 'C':\n",
        "            print(f\"Yay! I guessed your number {guess} in {attempts} attempts.\")\n",
        "            break\n",
        "        else:\n",
        "            print(\"Invalid response. Please respond with 'H', 'L', or 'C'.\")\n",
        "\n",
        "computer_guesses()"
      ],
      "metadata": {
        "colab": {
          "base_uri": "https://localhost:8080/"
        },
        "id": "NvHYJNVCFQY-",
        "outputId": "1e9b45ba-0441-4861-8650-3d123e37987f"
      },
      "execution_count": 7,
      "outputs": [
        {
          "output_type": "stream",
          "name": "stdout",
          "text": [
            "Welcome to the Guess the Number Game!\n",
            "Think of a number between 1 and 100, and I will try to guess it.\n",
            "Respond with 'H' if my guess is too high, 'L' if it's too low, and 'C' if I guessed correctly.\n",
            "My guess is: 50\n",
            "Is my guess too High (H), too Low (L), or Correct (C)? l\n",
            "My guess is: 75\n",
            "Is my guess too High (H), too Low (L), or Correct (C)? H\n",
            "My guess is: 62\n",
            "Is my guess too High (H), too Low (L), or Correct (C)? L\n",
            "My guess is: 68\n",
            "Is my guess too High (H), too Low (L), or Correct (C)? H\n",
            "My guess is: 65\n",
            "Is my guess too High (H), too Low (L), or Correct (C)? C\n",
            "Yay! I guessed your number 65 in 5 attempts.\n"
          ]
        }
      ]
    },
    {
      "cell_type": "markdown",
      "source": [
        "# Project 4\n",
        "### Rock, Paper, Scissors"
      ],
      "metadata": {
        "id": "IJvuZJyIIpvm"
      }
    },
    {
      "cell_type": "code",
      "source": [
        "import random\n",
        "\n",
        "def rock_paper_scissors():\n",
        "    print(\"Welcome to Rock, Paper, Scissors!\")\n",
        "    print(\"Rules: Rock beats Scissors, Scissors beats Paper, and Paper beats Rock.\")\n",
        "    print(\"Type 'Rock', 'Paper', or 'Scissors' to play. Type 'Quit' to exit the game.\")\n",
        "\n",
        "    choices = [\"Rock\", \"Paper\", \"Scissors\"]\n",
        "\n",
        "    while True:\n",
        "        user_choice = input(\"Your choice: \").capitalize()\n",
        "        if user_choice == \"Quit\":\n",
        "            print(\"Thanks for playing! Goodbye!\")\n",
        "            break\n",
        "\n",
        "        if user_choice not in choices:\n",
        "            print(\"Invalid choice. Please choose 'Rock', 'Paper', or 'Scissors'.\")\n",
        "            continue\n",
        "\n",
        "        computer_choice = random.choice(choices)\n",
        "        print(f\"Computer chose: {computer_choice}\")\n",
        "\n",
        "        if user_choice == computer_choice:\n",
        "            print(\"It's a tie!\")\n",
        "        elif (user_choice == \"Rock\" and computer_choice == \"Scissors\") or \\\n",
        "             (user_choice == \"Scissors\" and computer_choice == \"Paper\") or \\\n",
        "             (user_choice == \"Paper\" and computer_choice == \"Rock\"):\n",
        "            print(\"You win!\")\n",
        "        else:\n",
        "            print(\"You lose!\")\n",
        "        print(\"-\" * 30)\n",
        "\n",
        "rock_paper_scissors()"
      ],
      "metadata": {
        "colab": {
          "base_uri": "https://localhost:8080/"
        },
        "id": "hlH76IrRFfDd",
        "outputId": "b072da0b-5bd3-4229-8841-31adb8fc9cf1"
      },
      "execution_count": 8,
      "outputs": [
        {
          "output_type": "stream",
          "name": "stdout",
          "text": [
            "Welcome to Rock, Paper, Scissors!\n",
            "Rules: Rock beats Scissors, Scissors beats Paper, and Paper beats Rock.\n",
            "Type 'Rock', 'Paper', or 'Scissors' to play. Type 'Quit' to exit the game.\n",
            "Your choice: scissor\n",
            "Invalid choice. Please choose 'Rock', 'Paper', or 'Scissors'.\n",
            "Your choice: Scissors\n",
            "Computer chose: Rock\n",
            "You lose!\n",
            "------------------------------\n",
            "Your choice: rock\n",
            "Computer chose: Rock\n",
            "It's a tie!\n",
            "------------------------------\n",
            "Your choice: paper\n",
            "Computer chose: Scissors\n",
            "You lose!\n",
            "------------------------------\n",
            "Your choice: rock\n",
            "Computer chose: Paper\n",
            "You lose!\n",
            "------------------------------\n",
            "Your choice: paper\n",
            "Computer chose: Scissors\n",
            "You lose!\n",
            "------------------------------\n",
            "Your choice: rock\n",
            "Computer chose: Rock\n",
            "It's a tie!\n",
            "------------------------------\n",
            "Your choice: rock\n",
            "Computer chose: Scissors\n",
            "You win!\n",
            "------------------------------\n",
            "Your choice: \n",
            "Invalid choice. Please choose 'Rock', 'Paper', or 'Scissors'.\n",
            "Your choice: quit\n",
            "Thanks for playing! Goodbye!\n"
          ]
        }
      ]
    },
    {
      "cell_type": "markdown",
      "source": [
        "# Project 5\n",
        "### Hangman"
      ],
      "metadata": {
        "id": "A2jhLgCcI1To"
      }
    },
    {
      "cell_type": "code",
      "source": [
        "import random\n",
        "\n",
        "def hangman():\n",
        "    print(\"Welcome to Hangman!\")\n",
        "    print(\"Guess the word by entering one letter at a time.\")\n",
        "    print(\"You have 6 lives. Good luck!\")\n",
        "\n",
        "    word_list = [\"python\", \"hangman\", \"programming\", \"computer\", \"developer\"]\n",
        "    secret_word = random.choice(word_list).lower()\n",
        "    guessed_word = [\"_\"] * len(secret_word)\n",
        "    guessed_letters = set()\n",
        "    lives = 6\n",
        "\n",
        "    while lives > 0 and \"_\" in guessed_word:\n",
        "        print(\"\\nWord to guess: \" + \" \".join(guessed_word))\n",
        "        print(f\"Lives remaining: {lives}\")\n",
        "        print(f\"Guessed letters: {', '.join(sorted(guessed_letters)) if guessed_letters else 'None'}\")\n",
        "\n",
        "        guess = input(\"Enter a letter: \").lower()\n",
        "\n",
        "        if len(guess) != 1 or not guess.isalpha():\n",
        "            print(\"Invalid input. Please enter a single alphabet.\")\n",
        "            continue\n",
        "\n",
        "        if guess in guessed_letters:\n",
        "            print(\"You already guessed that letter. Try a different one.\")\n",
        "            continue\n",
        "\n",
        "        guessed_letters.add(guess)\n",
        "\n",
        "        if guess in secret_word:\n",
        "            print(f\"Good job! The letter '{guess}' is in the word.\")\n",
        "            for i, letter in enumerate(secret_word):\n",
        "                if letter == guess:\n",
        "                    guessed_word[i] = guess\n",
        "        else:\n",
        "            print(f\"Sorry, the letter '{guess}' is not in the word.\")\n",
        "            lives -= 1\n",
        "\n",
        "    if \"_\" not in guessed_word:\n",
        "        print(\"\\nCongratulations! You guessed the word: \" + secret_word)\n",
        "    else:\n",
        "        print(\"\\nGame Over! The word was: \" + secret_word)\n",
        "\n",
        "hangman()"
      ],
      "metadata": {
        "colab": {
          "base_uri": "https://localhost:8080/"
        },
        "id": "X3mRNXZPFtNU",
        "outputId": "09a6e0a4-7655-44ce-e720-a04885379657"
      },
      "execution_count": 10,
      "outputs": [
        {
          "output_type": "stream",
          "name": "stdout",
          "text": [
            "Welcome to Hangman!\n",
            "Guess the word by entering one letter at a time.\n",
            "You have 6 lives. Good luck!\n",
            "\n",
            "Word to guess: _ _ _ _ _ _ _ _\n",
            "Lives remaining: 6\n",
            "Guessed letters: None\n",
            "Enter a letter: a\n",
            "Sorry, the letter 'a' is not in the word.\n",
            "\n",
            "Word to guess: _ _ _ _ _ _ _ _\n",
            "Lives remaining: 5\n",
            "Guessed letters: a\n",
            "Enter a letter: p\n",
            "Good job! The letter 'p' is in the word.\n",
            "\n",
            "Word to guess: _ _ _ p _ _ _ _\n",
            "Lives remaining: 5\n",
            "Guessed letters: a, p\n",
            "Enter a letter: e\n",
            "Good job! The letter 'e' is in the word.\n",
            "\n",
            "Word to guess: _ _ _ p _ _ e _\n",
            "Lives remaining: 5\n",
            "Guessed letters: a, e, p\n",
            "Enter a letter: s\n",
            "Sorry, the letter 's' is not in the word.\n",
            "\n",
            "Word to guess: _ _ _ p _ _ e _\n",
            "Lives remaining: 4\n",
            "Guessed letters: a, e, p, s\n",
            "Enter a letter: d\n",
            "Sorry, the letter 'd' is not in the word.\n",
            "\n",
            "Word to guess: _ _ _ p _ _ e _\n",
            "Lives remaining: 3\n",
            "Guessed letters: a, d, e, p, s\n",
            "Enter a letter: v\n",
            "Sorry, the letter 'v' is not in the word.\n",
            "\n",
            "Word to guess: _ _ _ p _ _ e _\n",
            "Lives remaining: 2\n",
            "Guessed letters: a, d, e, p, s, v\n",
            "Enter a letter: y\n",
            "Sorry, the letter 'y' is not in the word.\n",
            "\n",
            "Word to guess: _ _ _ p _ _ e _\n",
            "Lives remaining: 1\n",
            "Guessed letters: a, d, e, p, s, v, y\n",
            "Enter a letter: r\n",
            "Good job! The letter 'r' is in the word.\n",
            "\n",
            "Word to guess: _ _ _ p _ _ e r\n",
            "Lives remaining: 1\n",
            "Guessed letters: a, d, e, p, r, s, v, y\n",
            "Enter a letter: c\n",
            "Good job! The letter 'c' is in the word.\n",
            "\n",
            "Word to guess: c _ _ p _ _ e r\n",
            "Lives remaining: 1\n",
            "Guessed letters: a, c, d, e, p, r, s, v, y\n",
            "Enter a letter: o\n",
            "Good job! The letter 'o' is in the word.\n",
            "\n",
            "Word to guess: c o _ p _ _ e r\n",
            "Lives remaining: 1\n",
            "Guessed letters: a, c, d, e, o, p, r, s, v, y\n",
            "Enter a letter: m\n",
            "Good job! The letter 'm' is in the word.\n",
            "\n",
            "Word to guess: c o m p _ _ e r\n",
            "Lives remaining: 1\n",
            "Guessed letters: a, c, d, e, m, o, p, r, s, v, y\n",
            "Enter a letter: p\n",
            "You already guessed that letter. Try a different one.\n",
            "\n",
            "Word to guess: c o m p _ _ e r\n",
            "Lives remaining: 1\n",
            "Guessed letters: a, c, d, e, m, o, p, r, s, v, y\n",
            "Enter a letter: u\n",
            "Good job! The letter 'u' is in the word.\n",
            "\n",
            "Word to guess: c o m p u _ e r\n",
            "Lives remaining: 1\n",
            "Guessed letters: a, c, d, e, m, o, p, r, s, u, v, y\n",
            "Enter a letter: t\n",
            "Good job! The letter 't' is in the word.\n",
            "\n",
            "Congratulations! You guessed the word: computer\n"
          ]
        }
      ]
    },
    {
      "cell_type": "markdown",
      "source": [
        "# Project 6\n",
        "### Count down timer"
      ],
      "metadata": {
        "id": "dEHdDaOSJal4"
      }
    },
    {
      "cell_type": "code",
      "source": [
        "import time\n",
        "\n",
        "def countdown_timer():\n",
        "    print(\"Welcome to the Countdown Timer!\")\n",
        "    try:\n",
        "        total_seconds = int(input(\"Enter the countdown time in seconds: \"))\n",
        "\n",
        "        while total_seconds > 0:\n",
        "            mins, secs = divmod(total_seconds, 60)\n",
        "            timer = f\"{mins:02}:{secs:02}\"\n",
        "            print(timer, end=\"\\r\")\n",
        "            time.sleep(1)\n",
        "            total_seconds -= 1\n",
        "\n",
        "        print(\"Time's up!\")\n",
        "    except ValueError:\n",
        "        print(\"Invalid input. Please enter a valid number.\")\n",
        "\n",
        "countdown_timer()"
      ],
      "metadata": {
        "colab": {
          "base_uri": "https://localhost:8080/"
        },
        "id": "qRKVisb6Jifr",
        "outputId": "6efab32c-c4b1-43df-a542-ad2c697b7ebe"
      },
      "execution_count": 11,
      "outputs": [
        {
          "output_type": "stream",
          "name": "stdout",
          "text": [
            "Welcome to the Countdown Timer!\n",
            "Enter the countdown time in seconds: 56\n",
            "Time's up!\n"
          ]
        }
      ]
    }
  ]
}